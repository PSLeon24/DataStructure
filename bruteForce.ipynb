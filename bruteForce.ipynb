{
 "cells": [
  {
   "cell_type": "code",
   "execution_count": 14,
   "id": "258d21d5",
   "metadata": {},
   "outputs": [
    {
     "name": "stdout",
     "output_type": "stream",
     "text": [
      "Step: 1\n",
      "텍스트 A와 패턴 A를 비교합니다.\n",
      "텍스트 A와 패턴 A는 일치합니다!\n",
      "Step: 1\n",
      "텍스트 B와 패턴 B를 비교합니다.\n",
      "텍스트 B와 패턴 B는 일치합니다!\n",
      "Step: 1\n",
      "텍스트 A와 패턴 C를 비교합니다.\n",
      "텍스트 A와 패턴 C는 일치하지 않습니다!!!\n",
      "\n",
      "Step: 2\n",
      "텍스트 B와 패턴 A를 비교합니다.\n",
      "텍스트 B와 패턴 A는 일치하지 않습니다!!!\n",
      "\n",
      "Step: 3\n",
      "텍스트 A와 패턴 A를 비교합니다.\n",
      "텍스트 A와 패턴 A는 일치합니다!\n",
      "Step: 3\n",
      "텍스트 B와 패턴 B를 비교합니다.\n",
      "텍스트 B와 패턴 B는 일치합니다!\n",
      "Step: 3\n",
      "텍스트 C와 패턴 C를 비교합니다.\n",
      "텍스트 C와 패턴 C는 일치합니다!\n",
      "3번째 문자가 일치합니다.\n"
     ]
    }
   ],
   "source": [
    "# 텍스트와 패턴을 입력받는 브루트 포스법으로 문자열 검색하는 함수\n",
    "def bf_match(txt, pattern):\n",
    "    pointText = 0 # 텍스트를 따라가는 커서\n",
    "    pointPattern = 0 # 패턴을 따라가는 커서\n",
    "    step = 1\n",
    "    \n",
    "    while (pointText != len(txt)) and (pointPattern != len(pattern)):\n",
    "        print(f\"Step: {step}\")\n",
    "        print(f\"텍스트 {txt[pointText]}와 패턴 {pattern[pointPattern]}를 비교합니다.\")\n",
    "        if txt[pointText] == pattern[pointPattern]: # 해당 커서의 텍스트와 패턴이 일치한다면 다음 커서의 텍스트와 패턴 검사\n",
    "            print(f\"텍스트 {txt[pointText]}와 패턴 {pattern[pointPattern]}는 일치합니다!\")\n",
    "            pointText += 1\n",
    "            pointPattern += 1\n",
    "        else: # 하나라도 일치하지 않는다면, 현재 커서가 있는 다음 커서의 텍스트부터 패턴과 일치하는지 검사 \n",
    "            print(f\"텍스트 {txt[pointText]}와 패턴 {pattern[pointPattern]}는 일치하지 않습니다!!!\")\n",
    "            pointText = pointText - pointPattern + 1\n",
    "            pointPattern = 0\n",
    "            step += 1\n",
    "            print()\n",
    "    return pointText - pointPattern if pointPattern == len(pattern) else -1\n",
    "\n",
    "if __name__ == \"__main__\":\n",
    "    testText = \"ABABCDEFGH\"\n",
    "    testPattern = \"ABC\"\n",
    "\n",
    "    idx = bf_match(testText, testPattern)\n",
    "    \n",
    "    print('텍스트 안에 패턴이 존재하지 않습니다.') if idx == -1 else print(f'{(idx + 1)}번째 문자가 일치합니다.')"
   ]
  },
  {
   "cell_type": "code",
   "execution_count": null,
   "id": "5bcb44e9",
   "metadata": {},
   "outputs": [],
   "source": []
  }
 ],
 "metadata": {
  "kernelspec": {
   "display_name": "Python 3 (ipykernel)",
   "language": "python",
   "name": "python3"
  },
  "language_info": {
   "codemirror_mode": {
    "name": "ipython",
    "version": 3
   },
   "file_extension": ".py",
   "mimetype": "text/x-python",
   "name": "python",
   "nbconvert_exporter": "python",
   "pygments_lexer": "ipython3",
   "version": "3.10.9"
  }
 },
 "nbformat": 4,
 "nbformat_minor": 5
}
