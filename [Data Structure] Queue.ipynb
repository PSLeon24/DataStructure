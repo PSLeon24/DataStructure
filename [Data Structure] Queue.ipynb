{
 "cells": [
  {
   "cell_type": "code",
   "execution_count": 1,
   "id": "e4bb9b8b",
   "metadata": {},
   "outputs": [
    {
     "name": "stdout",
     "output_type": "stream",
     "text": [
      "deque([3, 7, 1, 4])\n",
      "deque([4, 1, 7, 3])\n"
     ]
    }
   ],
   "source": [
    "from collections import deque\n",
    "que = deque()\n",
    "\n",
    "# 삽입(5) - 삽입(2) - 삽입(3) - 삽입(7) - 삭제() - 삽입(1) - 삽입(4) - 삭제()\n",
    "que.append(5)\n",
    "que.append(2)\n",
    "que.append(3)\n",
    "que.append(7)\n",
    "que.popleft()\n",
    "que.append(1)\n",
    "que.append(4)\n",
    "que.popleft()\n",
    "\n",
    "print(que)\n",
    "que.reverse() # reverse\n",
    "print(que)"
   ]
  },
  {
   "cell_type": "code",
   "execution_count": null,
   "id": "4fc7e4d0",
   "metadata": {},
   "outputs": [],
   "source": []
  }
 ],
 "metadata": {
  "kernelspec": {
   "display_name": "Python 3 (ipykernel)",
   "language": "python",
   "name": "python3"
  },
  "language_info": {
   "codemirror_mode": {
    "name": "ipython",
    "version": 3
   },
   "file_extension": ".py",
   "mimetype": "text/x-python",
   "name": "python",
   "nbconvert_exporter": "python",
   "pygments_lexer": "ipython3",
   "version": "3.10.9"
  }
 },
 "nbformat": 4,
 "nbformat_minor": 5
}
