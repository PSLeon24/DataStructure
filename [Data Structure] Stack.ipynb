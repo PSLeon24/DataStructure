{
 "cells": [
  {
   "cell_type": "code",
   "execution_count": 3,
   "id": "c36a4055",
   "metadata": {},
   "outputs": [
    {
     "name": "stdout",
     "output_type": "stream",
     "text": [
      "[5, 2, 3, 1]\n",
      "[1, 3, 2, 5]\n"
     ]
    }
   ],
   "source": [
    "stk = []\n",
    "\n",
    "# 삽입(5) - 삽입(2) - 삽입(3) - 삽입(7) - 삭제() - 삽입(1) - 삽입(4) - 삭제()\n",
    "stk.append(5)\n",
    "stk.append(2)\n",
    "stk.append(3)\n",
    "stk.append(7)\n",
    "stk.pop()\n",
    "stk.append(1)\n",
    "stk.append(4)\n",
    "stk.pop()\n",
    "\n",
    "print(stk)\n",
    "print(stk[::-1]) ## reverse"
   ]
  },
  {
   "cell_type": "code",
   "execution_count": null,
   "id": "9260acfc",
   "metadata": {},
   "outputs": [],
   "source": []
  }
 ],
 "metadata": {
  "kernelspec": {
   "display_name": "Python 3 (ipykernel)",
   "language": "python",
   "name": "python3"
  },
  "language_info": {
   "codemirror_mode": {
    "name": "ipython",
    "version": 3
   },
   "file_extension": ".py",
   "mimetype": "text/x-python",
   "name": "python",
   "nbconvert_exporter": "python",
   "pygments_lexer": "ipython3",
   "version": "3.10.9"
  }
 },
 "nbformat": 4,
 "nbformat_minor": 5
}
