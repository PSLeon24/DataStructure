{
 "cells": [
  {
   "cell_type": "code",
   "execution_count": 35,
   "id": "fae29ee9",
   "metadata": {},
   "outputs": [
    {
     "name": "stdout",
     "output_type": "stream",
     "text": [
      "Queen's position in Chess Game - 1\n",
      "index:(0, 1) \n",
      "index:(1, 3) \n",
      "index:(2, 0) \n",
      "index:(3, 2) \n",
      "□□■□\n",
      "■□□□\n",
      "□□□■\n",
      "□■□□\n",
      "\n",
      "Queen's position in Chess Game - 2\n",
      "index:(0, 2) \n",
      "index:(1, 0) \n",
      "index:(2, 3) \n",
      "index:(3, 1) \n",
      "□■□□\n",
      "□□□■\n",
      "■□□□\n",
      "□□■□\n",
      "\n",
      "퀸을 배치할 수 있는 모든 경우의 수 = 2\n"
     ]
    }
   ],
   "source": [
    "# 8-Queen을 해결하기 위한 4-Queen\n",
    "# (j, i)의 2 dimensional-matrix라 생각\n",
    "pos = [0] * 4 # 각 열에 배치한 퀸의 위치\n",
    "flag_a = [False] * 4 # 각 행에 퀸을 배치했는지 체크 (False: 배치 X, True: 배치 O)\n",
    "flag_b = [False] * 7 # 대각선 방향(↙↗)으로 퀸을 배치했는지 체크 (False: 배치 X, True: 배치 O)\n",
    "# 4x4 table을 그리면, 좌측 상단부터 대각선 번호 0 ~ 6로 나타낼 수 있음\n",
    "flag_c = [False] * 7 # 대각선 방향(↖↘)으로 퀸을 배치했는지 체크 (False: 배치 X, True: 배치 O)\n",
    "# 4x4 table을 그리면, 좌측 하단부터 대각선 번호 0 ~ 6로 나타낼 수 있음\n",
    "cnt = 0  # n개의 퀸을 조건에 맞게 모두 배치시키는 경우의 수\n",
    "\n",
    "def put():\n",
    "    global cnt # n개의 퀸을 조건에 맞게 모두 배치시키는 경우의 수를 전역변수로 생성\n",
    "    cnt += 1 # put()함수가 호출될 때마다 경우의 수는 1씩 증가\n",
    "    print(f\"Queen's position in Chess Game - {cnt}\")\n",
    "    for i in range(4): # 0~3(총 4개)의 열\n",
    "        print(f'index:{i, pos[i]}', end=' ') # i행 pos[i](=j)에 배치한 퀸의 위치를 출력\n",
    "        print()\n",
    "    \n",
    "def show(): # 4 x 4의 matrix 형태로 퀸의 위치를 표시\n",
    "    for j in range(4): # j행\n",
    "        for i in range(4): # i열\n",
    "            print('■' if pos[i] == j else '□', end='') # j행 i열에 퀸이 위치하면 ■, 없으면 □을 출력\n",
    "        print()\n",
    "    print()\n",
    "\n",
    "def set(i):\n",
    "    for j in range(4): # 4개의 행을 검색\n",
    "        if(not flag_a[j] # j행에 퀸이 배치되지 않았다면\n",
    "          and not flag_b[i + j] # 대각선 방향(↙↗)으로 퀸이 배치되지 않았다면 - j행 i열의 값은 i+j로 구할 수 있음\n",
    "          and not flag_c[i - j + 3]): # 대각선 방향(↖↘)으로 퀸이 배치되지 않았다면 - j행 i열의 값은 i-j+3으로 구할 수 있음\n",
    "            pos[i] = j # 퀸을 j행에 배치\n",
    "            if i == 3: # 모든 열에 퀸을 배치 완료 (0열 ~ 3열까지 총 4개의 열)\n",
    "                put()\n",
    "                show()\n",
    "            else:\n",
    "                flag_a[j] = flag_b[i + j] = flag_c[i - j + 3] = True\n",
    "                # 위 코드는 (j, i) 위치에 퀸을 배치할 때, 해당 행, 대각선 (↙↗), 대각선 (↖↘)에 퀸이 배치되었다는 표시\n",
    "                set(i + 1) # 다음 열(i + 1)에 대해 재귀적으로 퀸을 배치하기 위한 함수를 호출\n",
    "                # 위 코드는 열이 한 칸씩 증가하며 가능한 모든 퀸의 배치를 찾는 과정\n",
    "                flag_a[j] = flag_b[i + j] = flag_c[i - j + 3] = False # 퀸이 배치되었던 행, 대각선 (↙↗), 대각선 (↖↘)의 표시를 다시 False로 변경\n",
    "                # 위 코드는 해당 위치에서 다른 가능한 퀸의 배치를 찾기 위해 다시 되돌리는 역할\n",
    "                \n",
    "set(0)\n",
    "print(f'퀸을 배치할 수 있는 모든 경우의 수 = {cnt}')"
   ]
  },
  {
   "cell_type": "code",
   "execution_count": null,
   "id": "f6c32c1a",
   "metadata": {},
   "outputs": [],
   "source": []
  }
 ],
 "metadata": {
  "kernelspec": {
   "display_name": "Python 3 (ipykernel)",
   "language": "python",
   "name": "python3"
  },
  "language_info": {
   "codemirror_mode": {
    "name": "ipython",
    "version": 3
   },
   "file_extension": ".py",
   "mimetype": "text/x-python",
   "name": "python",
   "nbconvert_exporter": "python",
   "pygments_lexer": "ipython3",
   "version": "3.10.9"
  }
 },
 "nbformat": 4,
 "nbformat_minor": 5
}
