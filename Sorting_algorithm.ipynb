{
  "cells": [
    {
      "cell_type": "markdown",
      "metadata": {
        "id": "view-in-github",
        "colab_type": "text"
      },
      "source": [
        "<a href=\"https://colab.research.google.com/github/PSLeon24/DataStructure/blob/main/Sorting_algorithm.ipynb\" target=\"_parent\"><img src=\"https://colab.research.google.com/assets/colab-badge.svg\" alt=\"Open In Colab\"/></a>"
      ]
    },
    {
      "cell_type": "code",
      "execution_count": null,
      "id": "40e0a02f",
      "metadata": {
        "id": "40e0a02f",
        "outputId": "30938979-f7f5-4b2b-cedf-191163835919"
      },
      "outputs": [
        {
          "name": "stdout",
          "output_type": "stream",
          "text": [
            "정렬되지 않은 배열: [8, 31, 48, 73, 3, 65, 20, 29, 11, 15]\n",
            "단순 선택 정렬 후 배열: [3, 8, 11, 15, 20, 29, 31, 48, 65, 73]\n"
          ]
        }
      ],
      "source": [
        "def selectionSort(arr):\n",
        "    n = len(arr)\n",
        "    for i in range(n - 1):\n",
        "        min = i # the smallest number\n",
        "        for j in range(i+1, n):\n",
        "            if arr[j] < arr[min]:\n",
        "                min = j\n",
        "        arr[i], arr[min] = arr[min], arr[i] # 정렬할 부분의 맨 앞의 원소와 가장 작은 원소를 swap\n",
        "    return arr\n",
        "\n",
        "if __name__ == \"__main__\":\n",
        "    unsortedArr = [8, 31, 48, 73, 3, 65, 20, 29, 11, 15]\n",
        "    print(f'정렬되지 않은 배열: {unsortedArr}')\n",
        "    sortedArr = selectionSort(unsortedArr)\n",
        "    print(f'단순 선택 정렬 후 배열: {sortedArr}')"
      ]
    },
    {
      "cell_type": "code",
      "execution_count": null,
      "id": "f3e8103c",
      "metadata": {
        "id": "f3e8103c",
        "outputId": "845560a3-b736-4d3d-f309-8b0d1e772cdf"
      },
      "outputs": [
        {
          "name": "stdout",
          "output_type": "stream",
          "text": [
            "정렬되지 않은 배열: [8, 31, 48, 73, 3, 65, 20, 29, 11, 15]\n",
            "\n",
            "단순 선택 정렬 후 배열: [3, 8, 11, 15, 20, 29, 31, 48, 65, 73]\n",
            "원솟값을 비교하는 횟수: 45\n",
            "정렬을 위한 총 swap 횟수: 9\n"
          ]
        }
      ],
      "source": [
        "def selectionSort(arr):\n",
        "    n = len(arr)\n",
        "    cnt = 0\n",
        "    cnt2 = 0\n",
        "    for i in range(n - 1):\n",
        "        min = i # the smallest number\n",
        "        for j in range(i+1, n):\n",
        "            cnt += 1\n",
        "            if arr[j] < arr[min]:\n",
        "                min = j\n",
        "        arr[i], arr[min] = arr[min], arr[i] # 정렬할 부분의 맨 앞의 원소와 가장 작은 원소를 swap\n",
        "        cnt2 += 1\n",
        "    return arr, cnt, cnt2\n",
        "\n",
        "if __name__ == \"__main__\":\n",
        "    unsortedArr = [8, 31, 48, 73, 3, 65, 20, 29, 11, 15]\n",
        "    print(f'정렬되지 않은 배열: {unsortedArr}')\n",
        "    print()\n",
        "    sortedArr = selectionSort(unsortedArr)\n",
        "    print(f'단순 선택 정렬 후 배열: {sortedArr[0]}')\n",
        "    print(f'원솟값을 비교하는 횟수: {sortedArr[1]}')\n",
        "    print(f'정렬을 위한 총 swap 횟수: {sortedArr[2]}')"
      ]
    },
    {
      "cell_type": "code",
      "execution_count": null,
      "id": "870560f8",
      "metadata": {
        "id": "870560f8",
        "outputId": "08b83603-9427-4596-b47f-edd094546a38"
      },
      "outputs": [
        {
          "name": "stdout",
          "output_type": "stream",
          "text": [
            "정렬되지 않은 배열: [6, 4, 3, 7, 1, 9, 8]\n",
            "\n",
            "패스 1\n",
            " 6  4  3  7  1  9 + 8\n",
            " 6  4  3  7  1 - 8  9\n",
            " 6  4  3  7 + 1  8  9\n",
            " 6  4  3 + 1  7  8  9\n",
            " 6  4 + 1  3  7  8  9\n",
            " 6 + 1  4  3  7  8  9\n",
            "\n",
            "패스 2\n",
            " 1  6  4  3  7  8 - 9\n",
            " 1  6  4  3  7 - 8  9\n",
            " 1  6  4  3 - 7  8  9\n",
            " 1  6  4 + 3  7  8  9\n",
            " 1  6 + 3  4  7  8  9\n",
            "\n",
            "패스 3\n",
            " 1  3  6  4  7  8 - 9\n",
            " 1  3  6  4  7 - 8  9\n",
            " 1  3  6  4 - 7  8  9\n",
            " 1  3  6 + 4  7  8  9\n",
            "\n",
            "패스 4\n",
            " 1  3  4  6  7  8 - 9\n",
            " 1  3  4  6  7 - 8  9\n",
            " 1  3  4  6 - 7  8  9\n",
            "\n",
            "패스 5\n",
            " 1  3  4  6  7  8 - 9\n",
            " 1  3  4  6  7 - 8  9\n",
            "\n",
            "패스 6\n",
            " 1  3  4  6  7  8 - 9\n",
            "\n",
            "버블 정렬 후 배열: [1, 3, 4, 6, 7, 8, 9]\n",
            "원솟값을 비교하는 횟수: 21\n",
            "정렬을 위한 총 swap 횟수: 8\n"
          ]
        }
      ],
      "source": [
        "def bubbleSort(arr):\n",
        "    n = len(arr)\n",
        "    cnt = 0\n",
        "    cnt2 = 0\n",
        "    for i in range(n-1): # 패스(pass)\n",
        "        print(f'패스 {i+1}')\n",
        "        for j in range(n-1, i, -1):\n",
        "            for m in range(0, n-1):\n",
        "                print(f'{arr[m]:2}' + (' ' if m != j-1 else\n",
        "                                       ' +' if arr[j-1] > arr[j] else ' -'),\n",
        "                      end='')\n",
        "            print(f'{arr[n-1]:2}')\n",
        "            cnt += 1\n",
        "            if arr[j-1] > arr[j]:\n",
        "                arr[j - 1], arr[j] = arr[j], arr[j-1] # swap\n",
        "                cnt2 += 1\n",
        "        print()\n",
        "    return arr, cnt, cnt2\n",
        "                \n",
        "if __name__ == \"__main__\":\n",
        "    unsortedArr = [6, 4, 3, 7, 1, 9, 8]\n",
        "    print(f'정렬되지 않은 배열: {unsortedArr}')\n",
        "    print()\n",
        "    sortedArr = bubbleSort(unsortedArr)\n",
        "    print(f'버블 정렬 후 배열: {sortedArr[0]}')\n",
        "    print(f'원솟값을 비교하는 횟수: {sortedArr[1]}')\n",
        "    print(f'정렬을 위한 총 swap 횟수: {sortedArr[2]}')"
      ]
    },
    {
      "cell_type": "code",
      "execution_count": null,
      "id": "67f42ae1",
      "metadata": {
        "id": "67f42ae1",
        "outputId": "29226bac-fb53-452f-d2c3-338ea5fe0cfc"
      },
      "outputs": [
        {
          "name": "stdout",
          "output_type": "stream",
          "text": [
            "정렬되지 않은 배열: [6, 4, 3, 7, 1, 9, 8]\n",
            "\n",
            "패스 1\n",
            " 6  4  3  7  1  9 + 8\n",
            " 6  4  3  7  1 - 8  9\n",
            " 6  4  3  7 + 1  8  9\n",
            " 6  4  3 + 1  7  8  9\n",
            " 6  4 + 1  3  7  8  9\n",
            " 6 + 1  4  3  7  8  9\n",
            "\n",
            "패스 2\n",
            " 1  6  4  3  7  8 - 9\n",
            " 1  6  4  3  7 - 8  9\n",
            " 1  6  4  3 - 7  8  9\n",
            " 1  6  4 + 3  7  8  9\n",
            " 1  6 + 3  4  7  8  9\n",
            "\n",
            "패스 3\n",
            " 1  3  6  4  7  8 - 9\n",
            " 1  3  6  4  7 - 8  9\n",
            " 1  3  6  4 - 7  8  9\n",
            " 1  3  6 + 4  7  8  9\n",
            "\n",
            "패스 4\n",
            " 1  3  4  6  7  8 - 9\n",
            " 1  3  4  6  7 - 8  9\n",
            " 1  3  4  6 - 7  8  9\n",
            "\n",
            "버블 정렬 후 배열: [1, 3, 4, 6, 7, 8, 9]\n",
            "원솟값을 비교하는 횟수: 18\n",
            "정렬을 위한 총 swap 횟수: 8\n"
          ]
        }
      ],
      "source": [
        "def bubbleSort(arr):\n",
        "    n = len(arr)\n",
        "    cnt = 0\n",
        "    cnt2 = 0\n",
        "    for i in range(n-1): # 패스(pass)\n",
        "        exchange = 0 # 패스에서 swap 횟수\n",
        "        print(f'패스 {i+1}')\n",
        "        for j in range(n-1, i, -1):\n",
        "            for m in range(0, n-1):\n",
        "                print(f'{arr[m]:2}' + (' ' if m != j-1 else\n",
        "                                       ' +' if arr[j-1] > arr[j] else ' -'),\n",
        "                      end='')\n",
        "            print(f'{arr[n-1]:2}')\n",
        "            cnt += 1\n",
        "            if arr[j-1] > arr[j]:\n",
        "                arr[j - 1], arr[j] = arr[j], arr[j-1] # swap\n",
        "                exchange += 1\n",
        "                cnt2 += 1\n",
        "        print()\n",
        "        if exchange == 0:\n",
        "            break\n",
        "    return arr, cnt, cnt2\n",
        "                \n",
        "if __name__ == \"__main__\":\n",
        "    unsortedArr = [6, 4, 3, 7, 1, 9, 8]\n",
        "    print(f'정렬되지 않은 배열: {unsortedArr}')\n",
        "    print()\n",
        "    sortedArr = bubbleSort(unsortedArr)\n",
        "    print(f'버블 정렬 후 배열: {sortedArr[0]}')\n",
        "    print(f'원솟값을 비교하는 횟수: {sortedArr[1]}')\n",
        "    print(f'정렬을 위한 총 swap 횟수: {sortedArr[2]}')"
      ]
    },
    {
      "cell_type": "code",
      "execution_count": null,
      "id": "4b9246c9",
      "metadata": {
        "id": "4b9246c9",
        "outputId": "c0f753a4-d973-417e-839b-d1134790242a"
      },
      "outputs": [
        {
          "name": "stdout",
          "output_type": "stream",
          "text": [
            "정렬되지 않은 배열: [6, 4, 3, 7, 1, 9, 8]\n",
            "\n",
            "단순 삽입 정렬 후 배열: [1, 3, 4, 6, 7, 8, 9]\n",
            "원솟값을 비교하는 횟수: 8\n",
            "정렬을 위한 총 swap 횟수: 6\n"
          ]
        }
      ],
      "source": [
        "# Implementation to straight insertion sort\n",
        "def insertionSort(arr):\n",
        "    n = len(arr)\n",
        "    cnt = 0\n",
        "    cnt2 = 0\n",
        "    for i in range(1, n):\n",
        "        j = i\n",
        "        tmp = arr[i]\n",
        "        while j > 0 and arr[j - 1] > tmp:\n",
        "            arr[j] = arr[j - 1]\n",
        "            j -= 1\n",
        "            cnt += 1\n",
        "        arr[j] = tmp # swap\n",
        "        cnt2 += 1\n",
        "    return arr, cnt, cnt2\n",
        "\n",
        "if __name__ == \"__main__\":\n",
        "    unsortedArr = [6, 4, 3, 7, 1, 9, 8]\n",
        "    print(f'정렬되지 않은 배열: {unsortedArr}')\n",
        "    print()\n",
        "    sortedArr =insertionSort(unsortedArr)\n",
        "    print(f'단순 삽입 정렬 후 배열: {sortedArr[0]}')\n",
        "    print(f'원솟값을 비교하는 횟수: {sortedArr[1]}')\n",
        "    print(f'정렬을 위한 총 swap 횟수: {sortedArr[2]}')"
      ]
    },
    {
      "cell_type": "code",
      "execution_count": null,
      "id": "8b2b8ebb",
      "metadata": {
        "id": "8b2b8ebb",
        "outputId": "2f2226b4-a3e8-47ba-c324-e830c51d91ed"
      },
      "outputs": [
        {
          "name": "stdout",
          "output_type": "stream",
          "text": [
            "정렬되지 않은 배열: [6, 4, 3, 7, 1, 9, 8]\n",
            "\n",
            "이진 삽입 정렬 후 배열: [1, 3, 4, 6, 7, 8, 9]\n"
          ]
        }
      ],
      "source": [
        "# Implementation to binary insertion sort\n",
        "def binaryInsertionSort(arr):\n",
        "    n = len(arr)\n",
        "\n",
        "    for i in range(1, n):\n",
        "        key = arr[i]\n",
        "        pointLeft = 0 # 검색 범위의 맨 앞 원소 idx\n",
        "        pointRight = i-1 # 검색 범위의 맨 끝 원소 idx\n",
        "        \n",
        "        while True:\n",
        "            pointCenter = (pointLeft + pointRight) // 2 # 검색 범위의 가운데 원소 idx\n",
        "            if arr[pointCenter] == key: # 검색 성공\n",
        "                break\n",
        "            elif arr[pointCenter] < key: # 검색 범위를 뒤쪽 절반으로 좁힘\n",
        "                pointLeft = pointCenter + 1 # 시작 위치를 중앙보다 1칸 다음에 있는 idx로 설정\n",
        "            else: # 검색 범위를 앞쪽 절반으로 좁힘\n",
        "                pointRight = pointCenter - 1 # 끝 위치를 중앙보다 1칸 앞에 있는 idx로 설정\n",
        "            if pointLeft > pointRight: # 시작 위치가 끝 위치보다 크다는 것은 검색 실패\n",
        "                break\n",
        "        \n",
        "        pd = pointCenter + 1 if pointLeft <= pointRight else pointRight + 1 # 삽입해야 할 idx\n",
        "        \n",
        "        for j in range(i, pd, -1):\n",
        "            arr[j] = arr[j - 1]\n",
        "        arr[pd] = key\n",
        "\n",
        "    return arr\n",
        "\n",
        "if __name__ == \"__main__\":\n",
        "    unsortedArr = [6, 4, 3, 7, 1, 9, 8]\n",
        "    print(f'정렬되지 않은 배열: {unsortedArr}')\n",
        "    print()\n",
        "    sortedArr = binaryInsertionSort(unsortedArr)\n",
        "    print(f'이진 삽입 정렬 후 배열: {sortedArr}')"
      ]
    },
    {
      "cell_type": "code",
      "execution_count": null,
      "id": "bcf989c6",
      "metadata": {
        "id": "bcf989c6",
        "outputId": "304f6942-01ff-4ba1-8816-8ce276483334"
      },
      "outputs": [
        {
          "name": "stdout",
          "output_type": "stream",
          "text": [
            "정렬되지 않은 배열: [6, 4, 3, 7, 5, 1, 9, 8, 2]\n",
            "\n",
            "셸 정렬 후 배열: [1, 2, 3, 4, 5, 6, 7, 8, 9]\n"
          ]
        }
      ],
      "source": [
        "# Implemetation to shell sort\n",
        "\n",
        "def shellSort(arr):\n",
        "    n = len(arr)\n",
        "    h = n // 2 # h개만큼 떨어져 있는 것을 구해야 함, 초깃값은 전체 배열의 절반값\n",
        "    while h > 0:\n",
        "        for i in range(h, n):\n",
        "            j = i - h\n",
        "            tmp = arr[i]\n",
        "            while j >= 0 and arr[j] > tmp:\n",
        "                arr[j + h] = arr[j]\n",
        "                j -= h\n",
        "            arr[j + h] = tmp\n",
        "        h //= 2\n",
        "    return arr\n",
        "\n",
        "if __name__ == \"__main__\":\n",
        "    unsortedArr = [6, 4, 3, 7, 5, 1, 9, 8, 2]\n",
        "    print(f'정렬되지 않은 배열: {unsortedArr}')\n",
        "    print()\n",
        "    sortedArr = shellSort(unsortedArr)\n",
        "    print(f'셸 정렬 후 배열: {sortedArr}')"
      ]
    },
    {
      "cell_type": "code",
      "execution_count": null,
      "id": "27401c0d",
      "metadata": {
        "id": "27401c0d"
      },
      "outputs": [],
      "source": []
    }
  ],
  "metadata": {
    "kernelspec": {
      "display_name": "Python 3 (ipykernel)",
      "language": "python",
      "name": "python3"
    },
    "language_info": {
      "codemirror_mode": {
        "name": "ipython",
        "version": 3
      },
      "file_extension": ".py",
      "mimetype": "text/x-python",
      "name": "python",
      "nbconvert_exporter": "python",
      "pygments_lexer": "ipython3",
      "version": "3.10.9"
    },
    "colab": {
      "provenance": [],
      "include_colab_link": true
    }
  },
  "nbformat": 4,
  "nbformat_minor": 5
}