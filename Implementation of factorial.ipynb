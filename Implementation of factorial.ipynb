{
 "cells": [
  {
   "cell_type": "code",
   "execution_count": 2,
   "id": "2418dca7",
   "metadata": {},
   "outputs": [],
   "source": [
    "# 1. 반복문을 활용하여 Factorial 구현\n",
    "def factorial_iterative(n):\n",
    "    result = 1\n",
    "    for i in range(1, n+1):\n",
    "        result *= i\n",
    "    return result"
   ]
  },
  {
   "cell_type": "code",
   "execution_count": 3,
   "id": "0f18a82b",
   "metadata": {},
   "outputs": [],
   "source": [
    "# 2. 재귀함수를 활용하여 Factorial 구현\n",
    "def factorial_recursive(n):\n",
    "    if n <= 1: # 종료 조건\n",
    "        return 1\n",
    "    return n * factorial_recursive(n - 1)"
   ]
  },
  {
   "cell_type": "code",
   "execution_count": 4,
   "id": "4e639d06",
   "metadata": {},
   "outputs": [
    {
     "name": "stdout",
     "output_type": "stream",
     "text": [
      "반복문을 활용한 5! = 120\n",
      "재귀함수를 활용한 5! = 120\n"
     ]
    }
   ],
   "source": [
    "print(f'반복문을 활용한 5! = {factorial_iterative(5)}')\n",
    "print(f'재귀함수를 활용한 5! = {factorial_recursive(5)}')"
   ]
  },
  {
   "cell_type": "code",
   "execution_count": null,
   "id": "859851e2",
   "metadata": {},
   "outputs": [],
   "source": []
  }
 ],
 "metadata": {
  "kernelspec": {
   "display_name": "Python 3 (ipykernel)",
   "language": "python",
   "name": "python3"
  },
  "language_info": {
   "codemirror_mode": {
    "name": "ipython",
    "version": 3
   },
   "file_extension": ".py",
   "mimetype": "text/x-python",
   "name": "python",
   "nbconvert_exporter": "python",
   "pygments_lexer": "ipython3",
   "version": "3.10.9"
  }
 },
 "nbformat": 4,
 "nbformat_minor": 5
}
