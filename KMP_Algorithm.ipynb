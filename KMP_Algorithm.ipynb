{
 "cells": [
  {
   "cell_type": "code",
   "execution_count": 52,
   "id": "c206a4b7",
   "metadata": {
    "scrolled": true
   },
   "outputs": [
    {
     "name": "stdout",
     "output_type": "stream",
     "text": [
      "건너뛰기 표\n",
      "[0, 0, 0, 0, 0, 0, 0]\n",
      "[0, 0, 0, 0, 0, 0, 0]\n",
      "[0, 0, 0, 0, 1, 0, 0]\n",
      "[0, 0, 0, 0, 1, 2, 0]\n",
      "[0, 0, 0, 0, 1, 2, 0]\n",
      "[0, 0, 0, 0, 1, 2, 0]\n",
      "\n",
      "건너뛰기 표\n",
      "[0, 0, 0, 0, 0, 0, 0]\n",
      "[0, 0, 0, 0, 0, 0, 0]\n",
      "[0, 0, 0, 0, 1, 0, 0]\n",
      "[0, 0, 0, 0, 1, 2, 0]\n",
      "[0, 0, 0, 0, 1, 2, 0]\n",
      "[0, 0, 0, 0, 1, 2, 0]\n",
      "\n",
      "텍스트 \"ZABCABXACCADEF\"에서 패턴 \"ABCABD\" 문자열 검사 - 1\n",
      "텍스트 안에 패턴이 존재하지 않음\n",
      "\n",
      "텍스트 \"ZABCABDACCADEF\"에서 패턴 \"ABCABD\" 문자열 검사 - 2\n",
      "2번째 문자가 일치함\n"
     ]
    }
   ],
   "source": [
    "def kmp_match(text, pattern):\n",
    "    cursor_text = 1 # 텍스트를 따라가는 커서\n",
    "    cursor_pattern = 0 # 패턴을 따라가는 커서\n",
    "    skip_table = [0] * (len(pattern) + 1) # 건너뛰기 표\n",
    "    \n",
    "    # 건너뛰기 표 만들기\n",
    "    print(f'건너뛰기 표')\n",
    "    skip_table[cursor_text] = 0 # 건너뛰기 표에서 패턴의 첫 부분은 항상 0\n",
    "    while cursor_text != len(pattern):\n",
    "        if pattern[cursor_text] == pattern[cursor_pattern]:\n",
    "            cursor_text += 1\n",
    "            cursor_pattern += 1\n",
    "            skip_table[cursor_text] = cursor_pattern\n",
    "        elif cursor_pattern == 0:\n",
    "            cursor_text += 1\n",
    "            skip_table[cursor_text] = cursor_pattern\n",
    "        else:\n",
    "            cursor_pattern = skip_table[cursor_pattern]\n",
    "        print(skip_table)\n",
    "    print()\n",
    "\n",
    "    # 문자열 검색하기\n",
    "    cursor_text = cursor_pattern = 0\n",
    "    while cursor_text != len(text) and cursor_pattern != len(pattern):\n",
    "        if text[cursor_text] == pattern[cursor_pattern]:\n",
    "            cursor_text += 1\n",
    "            cursor_pattern += 1\n",
    "        elif cursor_pattern == 0:\n",
    "            cursor_text += 1\n",
    "        else:\n",
    "            cursor_pattern = skip_table[cursor_pattern]\n",
    "    \n",
    "    return cursor_text - cursor_pattern if cursor_pattern == len(pattern) else -1\n",
    "\n",
    "def kmp_checker(idx):\n",
    "    if idx == -1:\n",
    "         print('텍스트 안에 패턴이 존재하지 않음')\n",
    "    else:\n",
    "        print(f'{(idx + 1)}번째 문자가 일치함')\n",
    "\n",
    "if __name__ == \"__main__\":\n",
    "    str_txt1 = 'ZABCABXACCADEF'\n",
    "    str_pat = 'ABCABD'\n",
    "    str_txt2 = 'ZABCABDACCADEF'\n",
    "    \n",
    "    idx1 = kmp_match(str_txt1, str_pat)\n",
    "    idx2 = kmp_match(str_txt2, str_pat)\n",
    "    \n",
    "    print(f'텍스트 \"{str_txt1}\"에서 패턴 \"{str_pat1}\" 문자열 검사 - 1')\n",
    "    kmp_checker(idx1)\n",
    "    print()\n",
    "    print(f'텍스트 \"{str_txt2}\"에서 패턴 \"{str_pat2}\" 문자열 검사 - 2')\n",
    "    kmp_checker(idx2)"
   ]
  },
  {
   "cell_type": "code",
   "execution_count": null,
   "id": "755b4054",
   "metadata": {},
   "outputs": [],
   "source": []
  }
 ],
 "metadata": {
  "kernelspec": {
   "display_name": "Python 3 (ipykernel)",
   "language": "python",
   "name": "python3"
  },
  "language_info": {
   "codemirror_mode": {
    "name": "ipython",
    "version": 3
   },
   "file_extension": ".py",
   "mimetype": "text/x-python",
   "name": "python",
   "nbconvert_exporter": "python",
   "pygments_lexer": "ipython3",
   "version": "3.10.9"
  }
 },
 "nbformat": 4,
 "nbformat_minor": 5
}
