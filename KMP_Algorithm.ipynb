{
 "cells": [
  {
   "cell_type": "code",
   "execution_count": 3,
   "id": "c206a4b7",
   "metadata": {
    "scrolled": true
   },
   "outputs": [
    {
     "name": "stdout",
     "output_type": "stream",
     "text": [
      "건너뛰기 표\n",
      "[0, 0, 0, 0, 0, 0, 0, 0]\n",
      "[0, 0, 0, 0, 0, 0, 0, 0]\n",
      "[0, 0, 0, 0, 0, 0, 0, 0]\n",
      "[0, 0, 0, 0, 0, 1, 0, 0]\n",
      "[0, 0, 0, 0, 0, 1, 2, 0]\n",
      "[0, 0, 0, 0, 0, 1, 2, 3]\n",
      "\n",
      "텍스트 \"ABCDABBCABCDABCDABCAB\"에서 패턴 \"ABCDABC\" 문자열 검사\n",
      "9번째 문자가 일치함\n"
     ]
    }
   ],
   "source": [
    "def kmp_match(text, pattern):\n",
    "    cursor_text = 1 # 텍스트를 따라가는 커서의 위치를 1로 초기화\n",
    "    cursor_pattern = 0 # 패턴을 따라가는 커서의 위치를 0으로 초기화\n",
    "    skip_table = [0] * (len(pattern) + 1) # 0으로 채워진 건너뛰기 표를 생성(패턴의 문자열 길이보다 1큼)\n",
    "    \n",
    "    # 건너뛰기 표 만들기\n",
    "    print(f'건너뛰기 표')\n",
    "    skip_table[cursor_text] = 0 # 건너뛰기 표에서 패턴의 첫 부분은 0으로 초기화\n",
    "    while cursor_text != len(pattern): # 텍스트의 커서가 패턴 문자열의 길이와 같을 때(전체가 동일할 때)까지 반복\n",
    "        if pattern[cursor_text] == pattern[cursor_pattern]: # 텍스트의 커서와 패턴의 커서가 가리키는 패턴이 일치하면\n",
    "            cursor_text += 1 # 텍스트의 커서를 한 단계 앞으로 이동한다.\n",
    "            cursor_pattern += 1 # 건너뛰기 표에 기록될 패턴의 커서를 한 단계 앞으로 이동하고\n",
    "            skip_table[cursor_text] = cursor_pattern # 건너뛰기 표를 패턴의 커서로 업데이트한다.\n",
    "        elif cursor_pattern == 0: # 패턴과 텍스트 간에 일치하는 항목이 없다면,\n",
    "            cursor_text += 1 # 텍스트의 커서를 한 단계 앞으로 이동하고\n",
    "            skip_table[cursor_text] = cursor_pattern # 건너뛰기 표를 패턴의 커서로 업데이트한다.\n",
    "        else: # 패턴의 문자 간에 불일치한다면 skip 테이블에 저장된 정보를 기반으로 cursor_pattern의 위치를 조정한다.\n",
    "            cursor_pattern = skip_table[cursor_pattern] # 패턴의 커서의 위치를 건너뛰기 표에 저장된 값으로 업데이트한다.\n",
    "        print(skip_table) # 건너뛰기 표를 출력\n",
    "    print()\n",
    "\n",
    "    # 문자열 검색하기\n",
    "    cursor_text = cursor_pattern = 0 # 텍스트와 패턴을 따라가는 커서의 위치를 0으로 초기화\n",
    "    while cursor_text != len(text) and cursor_pattern != len(pattern): # 검색이 끝날 때까지 반복\n",
    "        if text[cursor_text] == pattern[cursor_pattern]: # 현재 가리키고 있는 텍스트와 패턴의 문자가 일치한다면,\n",
    "            cursor_text += 1 # 텍스트의 커서를 한 단계 앞으로 이동하고\n",
    "            cursor_pattern += 1 # 패턴의 커서도 한 단계 앞으로 이동한다.\n",
    "        elif cursor_pattern == 0: # 텍스트와 패턴이 일치하는 문자가 없고 패턴의 커서가 0이라면,\n",
    "            cursor_text += 1 # 텍스트의 커서를 한 단계 앞으로 이동한다.\n",
    "        else: # 현재 비교 중인 위치에서 패턴과 텍스트의 문자가 일치하지 않는 다면\n",
    "            cursor_pattern = skip_table[cursor_pattern] # 건너뛰기 표의 정보를 참고해서 건너뛸 수를 업데이트한다.\n",
    "    \n",
    "    return cursor_text - cursor_pattern if cursor_pattern == len(pattern) else -1\n",
    "    # 검색을 성공한다면 텍스트의 커서에서 패턴의 커서를 뺀 값을 반환\n",
    "    # 검색에 실패한다면 -1을 반환\n",
    "\n",
    "def kmp_checker(idx):\n",
    "    if idx == -1:\n",
    "         print('텍스트 안에 패턴이 존재하지 않음')\n",
    "    else:\n",
    "        print(f'{(idx + 1)}번째 문자가 일치함')\n",
    "\n",
    "if __name__ == \"__main__\":\n",
    "    str_txt1 = 'ABCDABBCABCDABCDABCAB'\n",
    "    str_pat = 'ABCDABC'\n",
    "    \n",
    "    idx1 = kmp_match(str_txt1, str_pat)\n",
    "    \n",
    "    print(f'텍스트 \"{str_txt1}\"에서 패턴 \"{str_pat}\" 문자열 검사')\n",
    "    kmp_checker(idx1)"
   ]
  },
  {
   "cell_type": "code",
   "execution_count": null,
   "id": "755b4054",
   "metadata": {},
   "outputs": [],
   "source": []
  }
 ],
 "metadata": {
  "kernelspec": {
   "display_name": "Python 3 (ipykernel)",
   "language": "python",
   "name": "python3"
  },
  "language_info": {
   "codemirror_mode": {
    "name": "ipython",
    "version": 3
   },
   "file_extension": ".py",
   "mimetype": "text/x-python",
   "name": "python",
   "nbconvert_exporter": "python",
   "pygments_lexer": "ipython3",
   "version": "3.10.9"
  }
 },
 "nbformat": 4,
 "nbformat_minor": 5
}
