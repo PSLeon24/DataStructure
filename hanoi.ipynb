{
 "cells": [
  {
   "cell_type": "code",
   "execution_count": 19,
   "id": "fc6b4197",
   "metadata": {},
   "outputs": [
    {
     "name": "stdout",
     "output_type": "stream",
     "text": [
      "Implementation to Tower of Hanoi\n",
      "\n",
      "원반 [1]을(를) 1기둥에서 3기둥으로 옮깁니다.\n"
     ]
    }
   ],
   "source": [
    "def move(no, x, y): # 옮겨 놓아야 할 원반 no개를 시작 기둥(x)에서 목표 기둥(y)으로 옮기는 함수 move()\n",
    "    if no > 1: # 원반이 1개를 초과할 경우\n",
    "        move(no - 1, x, 6 - x - y) # 가장 아래의 원반을 제외한 나머지 원반들을 시작 기둥(x)에서 중간 기둥(6-x-y)으로 이동시킨다.\n",
    "        # 중간 기둥을 6-x-y로 표현한 이유는 시작 기둥의 번호가 1, 중간 기둥의 번호는 2, 목표 기둥의 번호가 3이므로 기둥 번호의 합은 6이다.\n",
    "        # 이때, 시작 기둥과 목표 기둥이 어느 위치에 있든 항상 6 - 1(x) - 3(y) = 2(중간 기둥)이 나오기 때문에 위와 같이 구하였다.\n",
    "    print(f'원반 [{no}]을(를) {x}기둥에서 {y}기둥으로 옮깁니다.') # 시작 기둥(x)에서 목표 기둥(y)으로 옮겼다는 것을 출력한다.\n",
    "        \n",
    "    if no > 1:\n",
    "        move(no - 1, 6 - x - y, y) # 중간 기둥(6-x-y)으로 옮긴 원반들을 목표 기둥(y) 위에 다시 얹는다.\n",
    "\n",
    "print('Implementation to Tower of Hanoi\\n')\n",
    "move(1, 1, 3) # 원반의 개수가 1개 일때"
   ]
  },
  {
   "cell_type": "code",
   "execution_count": 20,
   "id": "ad4104d9",
   "metadata": {},
   "outputs": [
    {
     "name": "stdout",
     "output_type": "stream",
     "text": [
      "원반 [1]을(를) 1기둥에서 2기둥으로 옮깁니다.\n",
      "원반 [2]을(를) 1기둥에서 3기둥으로 옮깁니다.\n",
      "원반 [1]을(를) 2기둥에서 3기둥으로 옮깁니다.\n"
     ]
    }
   ],
   "source": [
    "move(2, 1, 3) # 원반의 개수가 2개 일때"
   ]
  },
  {
   "cell_type": "code",
   "execution_count": 21,
   "id": "1460c9b8",
   "metadata": {},
   "outputs": [
    {
     "name": "stdout",
     "output_type": "stream",
     "text": [
      "원반 [1]을(를) 1기둥에서 3기둥으로 옮깁니다.\n",
      "원반 [2]을(를) 1기둥에서 2기둥으로 옮깁니다.\n",
      "원반 [1]을(를) 3기둥에서 2기둥으로 옮깁니다.\n",
      "원반 [3]을(를) 1기둥에서 3기둥으로 옮깁니다.\n",
      "원반 [1]을(를) 2기둥에서 1기둥으로 옮깁니다.\n",
      "원반 [2]을(를) 2기둥에서 3기둥으로 옮깁니다.\n",
      "원반 [1]을(를) 1기둥에서 3기둥으로 옮깁니다.\n"
     ]
    }
   ],
   "source": [
    "move(3, 1, 3) # 원반의 개수가 3개 일때"
   ]
  },
  {
   "cell_type": "code",
   "execution_count": null,
   "id": "22ccffd4",
   "metadata": {},
   "outputs": [],
   "source": []
  }
 ],
 "metadata": {
  "kernelspec": {
   "display_name": "Python 3 (ipykernel)",
   "language": "python",
   "name": "python3"
  },
  "language_info": {
   "codemirror_mode": {
    "name": "ipython",
    "version": 3
   },
   "file_extension": ".py",
   "mimetype": "text/x-python",
   "name": "python",
   "nbconvert_exporter": "python",
   "pygments_lexer": "ipython3",
   "version": "3.10.9"
  }
 },
 "nbformat": 4,
 "nbformat_minor": 5
}
